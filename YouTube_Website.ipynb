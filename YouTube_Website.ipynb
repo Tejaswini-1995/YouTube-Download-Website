{
  "nbformat": 4,
  "nbformat_minor": 0,
  "metadata": {
    "colab": {
      "name": "YouTube Website.ipynb",
      "provenance": [],
      "authorship_tag": "ABX9TyMq/Tl7Gzxxm1fFFZ4uGflo",
      "include_colab_link": true
    },
    "kernelspec": {
      "name": "python3",
      "display_name": "Python 3"
    }
  },
  "cells": [
    {
      "cell_type": "markdown",
      "metadata": {
        "id": "view-in-github",
        "colab_type": "text"
      },
      "source": [
        "<a href=\"https://colab.research.google.com/github/Tejaswini-1995/YouTube-Download-Website/blob/main/YouTube_Website.ipynb\" target=\"_parent\"><img src=\"https://colab.research.google.com/assets/colab-badge.svg\" alt=\"Open In Colab\"/></a>"
      ]
    },
    {
      "cell_type": "code",
      "metadata": {
        "colab": {
          "base_uri": "https://localhost:8080/",
          "height": 346
        },
        "id": "vI_2hjG5Fl7r",
        "outputId": "a979e5f1-fc75-49be-ae0b-e35acdb29412"
      },
      "source": [
        "import tkinter as tk \r\n",
        "from tkinter import *\r\n",
        "from pytube import YouTube\r\n",
        "from tkinter import messagebox, filedialog\r\n",
        "def Widgets(): \r\n",
        "    link_label = Label(root,  \r\n",
        "                       text=\"YouTube link  :\", \r\n",
        "                       bg=\"#E8D579\") \r\n",
        "    link_label.grid(row=1, \r\n",
        "                    column=0, \r\n",
        "                    pady=5, \r\n",
        "                    padx=5) \r\n",
        "    root.linkText = Entry(root, \r\n",
        "                          width=55, \r\n",
        "                          textvariable=video_Link) \r\n",
        "    root.linkText.grid(row=1,  \r\n",
        "                       column=1, \r\n",
        "                       pady=5, \r\n",
        "                       padx=5, \r\n",
        "                       columnspan = 2) \r\n",
        "   \r\n",
        "    destination_label = Label(root,  \r\n",
        "                              text=\"Destination    :\", \r\n",
        "                              bg=\"#E8D579\") \r\n",
        "    destination_label.grid(row=2, \r\n",
        "                           column=0, \r\n",
        "                           pady=5, \r\n",
        "                           padx=5) \r\n",
        "    root.destinationText = Entry(root, \r\n",
        "                                 width=40, \r\n",
        "                                 textvariable=download_Path) \r\n",
        "    root.destinationText.grid(row=2,  \r\n",
        "                              column=1, \r\n",
        "                              pady=5, \r\n",
        "                              padx=5) \r\n",
        "   \r\n",
        "    browse_B = Button(root,  \r\n",
        "                      text=\"Browse\", \r\n",
        "                      command=Browse, \r\n",
        "                      width=10, \r\n",
        "                      bg=\"#05E8E0\") \r\n",
        "    browse_B.grid(row=2, \r\n",
        "                  column=2, \r\n",
        "                  pady=1, \r\n",
        "                  padx=1) \r\n",
        "    Download_B = Button(root, \r\n",
        "                        text=\"Download\",  \r\n",
        "                        command=Download,  \r\n",
        "                        width=20, \r\n",
        "                        bg=\"#05E8E0\") \r\n",
        "    Download_B.grid(row=3, \r\n",
        "                    column=1, \r\n",
        "                    pady=3, \r\n",
        "                    padx=3) \r\n",
        "def Browse():\r\n",
        "    download_Directory = filedialog.askdirectory(initialdir=\"YOUR DIRECTORY PATH\") \r\n",
        "    download_Path.set(download_Directory)\r\n",
        "def Download():  \r\n",
        "    Youtube_link = video_Link.get() \r\n",
        "    download_Folder = download_Path.get()\r\n",
        "    getVideo = YouTube(Youtube_link)\r\n",
        "    videoStream = getVideo.streams.first()\r\n",
        "    videoStream.download(download_Folder)\r\n",
        "    messagebox.showinfo(\"SUCCESSFULLY\", \"DOWNLOADED AND SAVED IN\\n\" + download_Folder)\r\n",
        "root = tk.Tk()\r\n",
        "root.geometry(\"600x120\") \r\n",
        "root.resizable(False, False) \r\n",
        "root.title(\"YouTube_Video_Downloader\") \r\n",
        "root.config(background=\"#000000\")\r\n",
        "video_Link = StringVar() \r\n",
        "download_Path = StringVar() \r\n",
        "Widgets()\r\n",
        "root.mainloop() \r\n",
        "\r\n"
      ],
      "execution_count": 10,
      "outputs": [
        {
          "output_type": "error",
          "ename": "TclError",
          "evalue": "ignored",
          "traceback": [
            "\u001b[0;31m---------------------------------------------------------------------------\u001b[0m",
            "\u001b[0;31mTclError\u001b[0m                                  Traceback (most recent call last)",
            "\u001b[0;32m<ipython-input-10-cb0db701f4a1>\u001b[0m in \u001b[0;36m<module>\u001b[0;34m()\u001b[0m\n\u001b[1;32m     63\u001b[0m     \u001b[0mvideoStream\u001b[0m\u001b[0;34m.\u001b[0m\u001b[0mdownload\u001b[0m\u001b[0;34m(\u001b[0m\u001b[0mdownload_Folder\u001b[0m\u001b[0;34m)\u001b[0m\u001b[0;34m\u001b[0m\u001b[0;34m\u001b[0m\u001b[0m\n\u001b[1;32m     64\u001b[0m     \u001b[0mmessagebox\u001b[0m\u001b[0;34m.\u001b[0m\u001b[0mshowinfo\u001b[0m\u001b[0;34m(\u001b[0m\u001b[0;34m\"SUCCESSFULLY\"\u001b[0m\u001b[0;34m,\u001b[0m \u001b[0;34m\"DOWNLOADED AND SAVED IN\\n\"\u001b[0m \u001b[0;34m+\u001b[0m \u001b[0mdownload_Folder\u001b[0m\u001b[0;34m)\u001b[0m\u001b[0;34m\u001b[0m\u001b[0;34m\u001b[0m\u001b[0m\n\u001b[0;32m---> 65\u001b[0;31m \u001b[0mroot\u001b[0m \u001b[0;34m=\u001b[0m \u001b[0mtk\u001b[0m\u001b[0;34m.\u001b[0m\u001b[0mTk\u001b[0m\u001b[0;34m(\u001b[0m\u001b[0;34m)\u001b[0m\u001b[0;34m\u001b[0m\u001b[0;34m\u001b[0m\u001b[0m\n\u001b[0m\u001b[1;32m     66\u001b[0m \u001b[0mroot\u001b[0m\u001b[0;34m.\u001b[0m\u001b[0mgeometry\u001b[0m\u001b[0;34m(\u001b[0m\u001b[0;34m\"600x120\"\u001b[0m\u001b[0;34m)\u001b[0m\u001b[0;34m\u001b[0m\u001b[0;34m\u001b[0m\u001b[0m\n\u001b[1;32m     67\u001b[0m \u001b[0mroot\u001b[0m\u001b[0;34m.\u001b[0m\u001b[0mresizable\u001b[0m\u001b[0;34m(\u001b[0m\u001b[0;32mFalse\u001b[0m\u001b[0;34m,\u001b[0m \u001b[0;32mFalse\u001b[0m\u001b[0;34m)\u001b[0m\u001b[0;34m\u001b[0m\u001b[0;34m\u001b[0m\u001b[0m\n",
            "\u001b[0;32m/usr/lib/python3.7/tkinter/__init__.py\u001b[0m in \u001b[0;36m__init__\u001b[0;34m(self, screenName, baseName, className, useTk, sync, use)\u001b[0m\n\u001b[1;32m   2021\u001b[0m                 \u001b[0mbaseName\u001b[0m \u001b[0;34m=\u001b[0m \u001b[0mbaseName\u001b[0m \u001b[0;34m+\u001b[0m \u001b[0mext\u001b[0m\u001b[0;34m\u001b[0m\u001b[0;34m\u001b[0m\u001b[0m\n\u001b[1;32m   2022\u001b[0m         \u001b[0minteractive\u001b[0m \u001b[0;34m=\u001b[0m \u001b[0;36m0\u001b[0m\u001b[0;34m\u001b[0m\u001b[0;34m\u001b[0m\u001b[0m\n\u001b[0;32m-> 2023\u001b[0;31m         \u001b[0mself\u001b[0m\u001b[0;34m.\u001b[0m\u001b[0mtk\u001b[0m \u001b[0;34m=\u001b[0m \u001b[0m_tkinter\u001b[0m\u001b[0;34m.\u001b[0m\u001b[0mcreate\u001b[0m\u001b[0;34m(\u001b[0m\u001b[0mscreenName\u001b[0m\u001b[0;34m,\u001b[0m \u001b[0mbaseName\u001b[0m\u001b[0;34m,\u001b[0m \u001b[0mclassName\u001b[0m\u001b[0;34m,\u001b[0m \u001b[0minteractive\u001b[0m\u001b[0;34m,\u001b[0m \u001b[0mwantobjects\u001b[0m\u001b[0;34m,\u001b[0m \u001b[0museTk\u001b[0m\u001b[0;34m,\u001b[0m \u001b[0msync\u001b[0m\u001b[0;34m,\u001b[0m \u001b[0muse\u001b[0m\u001b[0;34m)\u001b[0m\u001b[0;34m\u001b[0m\u001b[0;34m\u001b[0m\u001b[0m\n\u001b[0m\u001b[1;32m   2024\u001b[0m         \u001b[0;32mif\u001b[0m \u001b[0museTk\u001b[0m\u001b[0;34m:\u001b[0m\u001b[0;34m\u001b[0m\u001b[0;34m\u001b[0m\u001b[0m\n\u001b[1;32m   2025\u001b[0m             \u001b[0mself\u001b[0m\u001b[0;34m.\u001b[0m\u001b[0m_loadtk\u001b[0m\u001b[0;34m(\u001b[0m\u001b[0;34m)\u001b[0m\u001b[0;34m\u001b[0m\u001b[0;34m\u001b[0m\u001b[0m\n",
            "\u001b[0;31mTclError\u001b[0m: no display name and no $DISPLAY environment variable"
          ]
        }
      ]
    },
    {
      "cell_type": "code",
      "metadata": {
        "colab": {
          "base_uri": "https://localhost:8080/"
        },
        "id": "W-fMU98bJW1P",
        "outputId": "49f08369-04de-4a65-f49b-92b037e2839f"
      },
      "source": [
        "pip install pytube"
      ],
      "execution_count": 3,
      "outputs": [
        {
          "output_type": "stream",
          "text": [
            "Collecting pytube\n",
            "\u001b[?25l  Downloading https://files.pythonhosted.org/packages/98/fe/ab5c42a4be08d302d11e228bd5c4a63c1cb2fce9041881f8f9ef9a1fe34e/pytube-10.5.3-py3-none-any.whl (42kB)\n",
            "\r\u001b[K     |███████▋                        | 10kB 11.6MB/s eta 0:00:01\r\u001b[K     |███████████████▎                | 20kB 13.7MB/s eta 0:00:01\r\u001b[K     |███████████████████████         | 30kB 7.6MB/s eta 0:00:01\r\u001b[K     |██████████████████████████████▋ | 40kB 6.3MB/s eta 0:00:01\r\u001b[K     |████████████████████████████████| 51kB 2.5MB/s \n",
            "\u001b[?25hRequirement already satisfied: typing-extensions in /usr/local/lib/python3.7/dist-packages (from pytube) (3.7.4.3)\n",
            "Installing collected packages: pytube\n",
            "Successfully installed pytube-10.5.3\n"
          ],
          "name": "stdout"
        }
      ]
    }
  ]
}